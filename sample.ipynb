{
 "cells": [
  {
   "metadata": {},
   "cell_type": "markdown",
   "source": [
    "# Qué pretendo hacer en este notebook\n",
    "\n",
    "-una pseudo base de datos con python(creo que es mas fácil utilizar directamente sql pero bueno, aunque  creo que sql no se integra tan bien con github pages y jupyter)\n",
    "- el sistyema de parsseo\n",
    "- Generar graficos interesantes (¿Cuales?)\n",
    "\n"
   ],
   "id": "8a77807f92f26ee"
  },
  {
   "metadata": {},
   "cell_type": "code",
   "outputs": [],
   "execution_count": null,
   "source": "print(\"Hello World!\")\n",
   "id": "fbc121e30a2defb3"
  },
  {
   "metadata": {},
   "cell_type": "code",
   "outputs": [],
   "execution_count": null,
   "source": "## Sistema de parseo\n",
   "id": "4c7dc9deec84f1b"
  },
  {
   "metadata": {},
   "cell_type": "markdown",
   "source": [
    "## Graficos interesantes\n",
    "### Recursos\n",
    "\n",
    "- https://python-graph-gallery.com/\n",
    "- https://matplotlib.org/cheatsheets/\n",
    "\n",
    "### ¿Que graficos pueden ser interesantes?\n",
    "#### Los que he visto en otros papers :\n",
    "1. Diagramas de barras\n",
    "2."
   ],
   "id": "e268c81dded18175"
  }
 ],
 "metadata": {
  "kernelspec": {
   "display_name": "Python 3",
   "language": "python",
   "name": "python3"
  },
  "language_info": {
   "codemirror_mode": {
    "name": "ipython",
    "version": 2
   },
   "file_extension": ".py",
   "mimetype": "text/x-python",
   "name": "python",
   "nbconvert_exporter": "python",
   "pygments_lexer": "ipython2",
   "version": "2.7.6"
  }
 },
 "nbformat": 4,
 "nbformat_minor": 5
}
